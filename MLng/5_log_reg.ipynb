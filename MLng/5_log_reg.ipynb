{
 "cells": [
  {
   "cell_type": "markdown",
   "id": "ab451bf5",
   "metadata": {},
   "source": [
    "# Logistic Regression\n",
    "\n",
    "Logistic regression is a classification algorithm, whose model is as follows:\n",
    "\n",
    "$$\\begin{align*}\n",
    "    z & = \\vec{w} \\cdot \\vec{x} + b \\\\\n",
    "    f_{\\vec{w},b}(\\vec{x}) &= \\dfrac{1}{1+e^{-z}}, \\quad 0< f_{\\vec{w},b}(\\vec{x})<1\n",
    "\\end{align*}\n",
    "$$\n",
    "The output, $f_{\\vec{w},b} (\\vec{x})$ represents the probability for the input $\\vec{x}$ with parameters $\\vec{w},b$ is class 1. That is,\n",
    "$$f_{\\vec{w},b}(\\vec{x}) = P(y=1|\\vec{x};(\\vec{w},b)) $$\n"
   ]
  },
  {
   "cell_type": "code",
   "execution_count": null,
   "id": "beb57bb0",
   "metadata": {},
   "outputs": [],
   "source": []
  }
 ],
 "metadata": {
  "kernelspec": {
   "display_name": "Python 3 (ipykernel)",
   "language": "python",
   "name": "python3"
  },
  "language_info": {
   "codemirror_mode": {
    "name": "ipython",
    "version": 3
   },
   "file_extension": ".py",
   "mimetype": "text/x-python",
   "name": "python",
   "nbconvert_exporter": "python",
   "pygments_lexer": "ipython3",
   "version": "3.9.13"
  }
 },
 "nbformat": 4,
 "nbformat_minor": 5
}
