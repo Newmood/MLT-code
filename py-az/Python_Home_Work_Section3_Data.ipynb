{
 "cells": [
  {
   "cell_type": "code",
   "execution_count": 3,
   "metadata": {},
   "outputs": [],
   "source": [
    "#Data \n",
    "revenue = [14574.49, 7606.46, 8611.41, 9175.41, 8058.65, 8105.44, 11496.28, 9766.09, 10305.32, 14379.96, 10713.97, 15433.50]\n",
    "expenses = [12051.82, 5695.07, 12319.20, 12089.72, 8658.57, 840.20, 3285.73, 5821.12, 6976.93, 16618.61, 10054.37, 3803.96]"
   ]
  },
  {
   "cell_type": "code",
   "execution_count": 4,
   "metadata": {},
   "outputs": [
    {
     "data": {
      "text/plain": [
       "[2522.67,\n",
       " 1911.3900000000003,\n",
       " -3707.790000000001,\n",
       " -2914.3099999999995,\n",
       " -599.9200000000001,\n",
       " 7265.24,\n",
       " 8210.550000000001,\n",
       " 3944.9700000000003,\n",
       " 3328.3899999999994,\n",
       " -2238.6500000000015,\n",
       " 659.5999999999985,\n",
       " 11629.54]"
      ]
     },
     "execution_count": 4,
     "metadata": {},
     "output_type": "execute_result"
    }
   ],
   "source": [
    "profit_monthly = []\n",
    "for i in range(len(revenue)):\n",
    "    profit_monthly.append(revenue[i]-expenses[i])\n",
    "profit_monthly"
   ]
  },
  {
   "cell_type": "code",
   "execution_count": 5,
   "metadata": {},
   "outputs": [
    {
     "data": {
      "text/plain": [
       "[1765.87,\n",
       " 1337.97,\n",
       " -2595.45,\n",
       " -2040.02,\n",
       " -419.94,\n",
       " 5085.67,\n",
       " 5747.39,\n",
       " 2761.48,\n",
       " 2329.87,\n",
       " -1567.06,\n",
       " 461.72,\n",
       " 8140.68]"
      ]
     },
     "execution_count": 5,
     "metadata": {},
     "output_type": "execute_result"
    }
   ],
   "source": [
    "profit_after_tax = [round(i - i*0.3,2) for i in profit_monthly]\n",
    "profit_after_tax"
   ]
  },
  {
   "cell_type": "code",
   "execution_count": 6,
   "metadata": {},
   "outputs": [
    {
     "data": {
      "text/plain": [
       "[0.12, 0.18, -0.3, -0.22, -0.05, 0.63, 0.5, 0.28, 0.23, -0.11, 0.04, 0.53]"
      ]
     },
     "execution_count": 6,
     "metadata": {},
     "output_type": "execute_result"
    }
   ],
   "source": [
    "profit_margin_monthly= [round(profit_after_tax[i]/revenue[i],2) for i in range(len(revenue))]\n",
    "profit_margin_monthly"
   ]
  },
  {
   "cell_type": "code",
   "execution_count": 7,
   "metadata": {},
   "outputs": [
    {
     "data": {
      "text/plain": [
       "1750.68"
      ]
     },
     "execution_count": 7,
     "metadata": {},
     "output_type": "execute_result"
    }
   ],
   "source": [
    "type_month = []\n",
    "mean = 0\n",
    "sum = 0\n",
    "for i in profit_after_tax:\n",
    "    sum = sum+i\n",
    "mean =round(sum/12,2)\n",
    "mean"
   ]
  },
  {
   "cell_type": "code",
   "execution_count": 8,
   "metadata": {},
   "outputs": [
    {
     "data": {
      "text/plain": [
       "['Good',\n",
       " 'Bad',\n",
       " 'Bad',\n",
       " 'Bad',\n",
       " 'Bad',\n",
       " 'Good',\n",
       " 'Good',\n",
       " 'Good',\n",
       " 'Good',\n",
       " 'Bad',\n",
       " 'Bad',\n",
       " 'Good']"
      ]
     },
     "execution_count": 8,
     "metadata": {},
     "output_type": "execute_result"
    }
   ],
   "source": [
    "for i in range(len(profit_after_tax)):\n",
    "    if profit_after_tax[i]>mean:\n",
    "        type_month.append('Good')\n",
    "    else:\n",
    "        type_month.append('Bad')\n",
    "type_month"
   ]
  },
  {
   "cell_type": "code",
   "execution_count": 9,
   "metadata": {},
   "outputs": [],
   "source": [
    "import pandas as pd"
   ]
  },
  {
   "cell_type": "code",
   "execution_count": 10,
   "metadata": {},
   "outputs": [
    {
     "data": {
      "text/html": [
       "<div>\n",
       "<style scoped>\n",
       "    .dataframe tbody tr th:only-of-type {\n",
       "        vertical-align: middle;\n",
       "    }\n",
       "\n",
       "    .dataframe tbody tr th {\n",
       "        vertical-align: top;\n",
       "    }\n",
       "\n",
       "    .dataframe thead th {\n",
       "        text-align: right;\n",
       "    }\n",
       "</style>\n",
       "<table border=\"1\" class=\"dataframe\">\n",
       "  <thead>\n",
       "    <tr style=\"text-align: right;\">\n",
       "      <th></th>\n",
       "      <th>Revenue</th>\n",
       "      <th>Expenses</th>\n",
       "      <th>Monthly Profit</th>\n",
       "      <th>Taxed Profit</th>\n",
       "      <th>Profit Margin</th>\n",
       "      <th>Category</th>\n",
       "    </tr>\n",
       "  </thead>\n",
       "  <tbody>\n",
       "    <tr>\n",
       "      <th>0</th>\n",
       "      <td>14574.49</td>\n",
       "      <td>12051.82</td>\n",
       "      <td>2522.67</td>\n",
       "      <td>1765.87</td>\n",
       "      <td>0.12</td>\n",
       "      <td>Good</td>\n",
       "    </tr>\n",
       "    <tr>\n",
       "      <th>1</th>\n",
       "      <td>7606.46</td>\n",
       "      <td>5695.07</td>\n",
       "      <td>1911.39</td>\n",
       "      <td>1337.97</td>\n",
       "      <td>0.18</td>\n",
       "      <td>Bad</td>\n",
       "    </tr>\n",
       "    <tr>\n",
       "      <th>2</th>\n",
       "      <td>8611.41</td>\n",
       "      <td>12319.20</td>\n",
       "      <td>-3707.79</td>\n",
       "      <td>-2595.45</td>\n",
       "      <td>-0.30</td>\n",
       "      <td>Bad</td>\n",
       "    </tr>\n",
       "    <tr>\n",
       "      <th>3</th>\n",
       "      <td>9175.41</td>\n",
       "      <td>12089.72</td>\n",
       "      <td>-2914.31</td>\n",
       "      <td>-2040.02</td>\n",
       "      <td>-0.22</td>\n",
       "      <td>Bad</td>\n",
       "    </tr>\n",
       "    <tr>\n",
       "      <th>4</th>\n",
       "      <td>8058.65</td>\n",
       "      <td>8658.57</td>\n",
       "      <td>-599.92</td>\n",
       "      <td>-419.94</td>\n",
       "      <td>-0.05</td>\n",
       "      <td>Bad</td>\n",
       "    </tr>\n",
       "    <tr>\n",
       "      <th>5</th>\n",
       "      <td>8105.44</td>\n",
       "      <td>840.20</td>\n",
       "      <td>7265.24</td>\n",
       "      <td>5085.67</td>\n",
       "      <td>0.63</td>\n",
       "      <td>Good</td>\n",
       "    </tr>\n",
       "    <tr>\n",
       "      <th>6</th>\n",
       "      <td>11496.28</td>\n",
       "      <td>3285.73</td>\n",
       "      <td>8210.55</td>\n",
       "      <td>5747.39</td>\n",
       "      <td>0.50</td>\n",
       "      <td>Good</td>\n",
       "    </tr>\n",
       "    <tr>\n",
       "      <th>7</th>\n",
       "      <td>9766.09</td>\n",
       "      <td>5821.12</td>\n",
       "      <td>3944.97</td>\n",
       "      <td>2761.48</td>\n",
       "      <td>0.28</td>\n",
       "      <td>Good</td>\n",
       "    </tr>\n",
       "    <tr>\n",
       "      <th>8</th>\n",
       "      <td>10305.32</td>\n",
       "      <td>6976.93</td>\n",
       "      <td>3328.39</td>\n",
       "      <td>2329.87</td>\n",
       "      <td>0.23</td>\n",
       "      <td>Good</td>\n",
       "    </tr>\n",
       "    <tr>\n",
       "      <th>9</th>\n",
       "      <td>14379.96</td>\n",
       "      <td>16618.61</td>\n",
       "      <td>-2238.65</td>\n",
       "      <td>-1567.06</td>\n",
       "      <td>-0.11</td>\n",
       "      <td>Bad</td>\n",
       "    </tr>\n",
       "    <tr>\n",
       "      <th>10</th>\n",
       "      <td>10713.97</td>\n",
       "      <td>10054.37</td>\n",
       "      <td>659.60</td>\n",
       "      <td>461.72</td>\n",
       "      <td>0.04</td>\n",
       "      <td>Bad</td>\n",
       "    </tr>\n",
       "    <tr>\n",
       "      <th>11</th>\n",
       "      <td>15433.50</td>\n",
       "      <td>3803.96</td>\n",
       "      <td>11629.54</td>\n",
       "      <td>8140.68</td>\n",
       "      <td>0.53</td>\n",
       "      <td>Good</td>\n",
       "    </tr>\n",
       "  </tbody>\n",
       "</table>\n",
       "</div>"
      ],
      "text/plain": [
       "     Revenue  Expenses  Monthly Profit  Taxed Profit  Profit Margin Category\n",
       "0   14574.49  12051.82         2522.67       1765.87           0.12     Good\n",
       "1    7606.46   5695.07         1911.39       1337.97           0.18      Bad\n",
       "2    8611.41  12319.20        -3707.79      -2595.45          -0.30      Bad\n",
       "3    9175.41  12089.72        -2914.31      -2040.02          -0.22      Bad\n",
       "4    8058.65   8658.57         -599.92       -419.94          -0.05      Bad\n",
       "5    8105.44    840.20         7265.24       5085.67           0.63     Good\n",
       "6   11496.28   3285.73         8210.55       5747.39           0.50     Good\n",
       "7    9766.09   5821.12         3944.97       2761.48           0.28     Good\n",
       "8   10305.32   6976.93         3328.39       2329.87           0.23     Good\n",
       "9   14379.96  16618.61        -2238.65      -1567.06          -0.11      Bad\n",
       "10  10713.97  10054.37          659.60        461.72           0.04      Bad\n",
       "11  15433.50   3803.96        11629.54       8140.68           0.53     Good"
      ]
     },
     "execution_count": 10,
     "metadata": {},
     "output_type": "execute_result"
    }
   ],
   "source": [
    "df = pd.DataFrame((zip(revenue,expenses,profit_monthly,profit_after_tax,profit_margin_monthly,type_month)),columns=['Revenue','Expenses','Monthly Profit','Taxed Profit','Profit Margin','Category'])\n",
    "df"
   ]
  }
 ],
 "metadata": {
  "kernelspec": {
   "display_name": "Python 3 (ipykernel)",
   "language": "python",
   "name": "python3"
  },
  "language_info": {
   "codemirror_mode": {
    "name": "ipython",
    "version": 3
   },
   "file_extension": ".py",
   "mimetype": "text/x-python",
   "name": "python",
   "nbconvert_exporter": "python",
   "pygments_lexer": "ipython3",
   "version": "3.9.13"
  }
 },
 "nbformat": 4,
 "nbformat_minor": 1
}
