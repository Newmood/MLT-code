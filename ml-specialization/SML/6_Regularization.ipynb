{
 "cells": [
  {
   "cell_type": "markdown",
   "id": "a7b54fe1",
   "metadata": {},
   "source": [
    "# Regularization"
   ]
  },
  {
   "cell_type": "markdown",
   "id": "60e6248f",
   "metadata": {},
   "source": [
    "### Cost for logistic regression regularized:\n",
    "For $d$-features and $n$-examples and $\\lambda$ being the regularization parameter:\n",
    "$$\\begin{align}\n",
    "    J(\\vec{w},b) = \\dfrac{1}{2n} \\sum_{i=1}^{n} \\Bigl(f_{\\vec{w},b}(\\vec{x}^{(i)})-y^{(i)} \\Bigr)^2 + \\underbrace{\\dfrac{\\lambda}{2n} \\sum_{j=1}^{d} w_j^2}_{\\text{regularization term}}  \\nonumber\n",
    "\\end{align}$$\n",
    "\n",
    "where $$f_{\\vec{w},b}(\\vec{x}) = \\vec{w} \\cdot \\vec{x} + b$$"
   ]
  },
  {
   "cell_type": "code",
   "execution_count": 1,
   "id": "873b4e97",
   "metadata": {},
   "outputs": [],
   "source": [
    "import numpy as np\n",
    "import matplotlib.pyplot as plt\n",
    "%matplotlib inline"
   ]
  },
  {
   "cell_type": "code",
   "execution_count": 2,
   "id": "1df4c37a",
   "metadata": {},
   "outputs": [],
   "source": [
    "def sigmoid(x):\n",
    "    return 1/(1+np.exp(-x))"
   ]
  },
  {
   "cell_type": "code",
   "execution_count": 3,
   "id": "ccfb5ce8",
   "metadata": {},
   "outputs": [],
   "source": [
    "def cost_linreg_reg(X,y,w,b, regu_lambda=1):\n",
    "    \"\"\"\n",
    "    Computing cost function for regularized linear regression:\n",
    "    \n",
    "    Arguments:\n",
    "    X : (ndarray (n,d)), Data matrix, n observation as rows and d features as rows\n",
    "    y : (ndarray (n,)), Target values vector \n",
    "    w : (ndarray (d,)), Parameter, d-dimensional, one value for each feature\n",
    "    b : scalar, parameter\n",
    "    regu : regularization parameter lambda\n",
    "    \n",
    "    Output:\n",
    "    cost : (scalar), Cost of predicted values\n",
    "    \"\"\"\n",
    "    n = X.shape[0]\n",
    "    d = len(w)\n",
    "    cost = 0.0\n",
    "    regu_cost = 0.0\n",
    "    \n",
    "    for i in range(n):\n",
    "        f_wb_i = np.dot(X[i],w) + b\n",
    "        cost = cost + (f_wb_i - y[i])**2\n",
    "    cost = cost/(2*n)\n",
    "    \n",
    "    for j in range(d):\n",
    "        regu_cost = regu_cost + (w[j]**2)\n",
    "    regu_cost = regu_cost *(regu_lambda/(2*n))\n",
    "        \n",
    "    total = cost + regu_cost\n",
    "    \n",
    "    return total"
   ]
  },
  {
   "cell_type": "code",
   "execution_count": 4,
   "id": "fe568121",
   "metadata": {},
   "outputs": [
    {
     "name": "stdout",
     "output_type": "stream",
     "text": [
      "Regularized cost: 0.07917239320214275\n"
     ]
    }
   ],
   "source": [
    "np.random.seed(1)\n",
    "X_tmp = np.random.rand(5,6)\n",
    "y_tmp = np.array([0,1,0,1,0])\n",
    "w_tmp = np.random.rand(X_tmp.shape[1]).reshape(-1,)-0.5\n",
    "b_tmp = 0.5\n",
    "lambda_tmp = 0.7\n",
    "cost_tmp = cost_linreg_reg(X_tmp, y_tmp, w_tmp, b_tmp, lambda_tmp)\n",
    "\n",
    "print(\"Regularized cost:\", cost_tmp)"
   ]
  },
  {
   "cell_type": "markdown",
   "id": "f9447ae1",
   "metadata": {},
   "source": [
    "### Cost for logistic regression regularized:\n",
    "$$\n",
    "\\begin{align}\n",
    "    J(\\vec{w},b) = \\dfrac{1}{n} \\left[ \\sum_{i=1}^{n} -y^{(i)}log(f_{\\vec{w},b} (\\vec{x}^{(i)})) - (1-y^{(i)})log(1-f_{\\vec{w},b}(\\vec{x}^{(i)})) \\right] + \\dfrac{\\lambda}{2n} \\sum_{j=1}^{d}w_j^2 \\nonumber\n",
    "\\end{align}$$\n",
    "where \n",
    "$$\\begin{align}\n",
    "    z & = \\vec{w} \\cdot \\vec{x} + b \\nonumber \\\\\n",
    "    f_{\\vec{w},b}(\\vec{x}) &= \\dfrac{1}{1+e^{-z}}, \\quad 0< f_{\\vec{w},b}(\\vec{x})<1 \\nonumber\n",
    "\\end{align}$$\n"
   ]
  },
  {
   "cell_type": "code",
   "execution_count": 5,
   "id": "8f93e120",
   "metadata": {},
   "outputs": [],
   "source": [
    "def cost_logreg_regu(X,y,w,b,regu_lambda=1):\n",
    "    \"\"\"\n",
    "    Computing cost function for regularized logistic regression:\n",
    "    \n",
    "    Arguments:\n",
    "    X : (ndarray (n,d)), Data matrix, n observation as rows and d features as rows\n",
    "    y : (ndarray (n,)), Target values vector \n",
    "    w : (ndarray (d,)), Parameter, d-dimensional, one value for each feature\n",
    "    b : scalar, parameter\n",
    "    regu : scalar, regularization parameter lambda\n",
    "    \n",
    "    Output:\n",
    "    cost : (scalar), Cost of predicted values\n",
    "    \"\"\"\n",
    "    n,d = X.shape\n",
    "    cost = 0.0\n",
    "    regu_cost = 0.0\n",
    "    \n",
    "    for i in range(n):\n",
    "        z_i = np.dot(X[i],w)+b\n",
    "        f_wb_i = sigmoid(z_i)\n",
    "        cost = cost + -y[i]*np.log(f_wb_i)-(1-y[i])*np.log(1-f_wb_i)\n",
    "    \n",
    "    cost = cost/n\n",
    "    \n",
    "    for j in range(d):\n",
    "        regu_cost = regu_cost + w[j]**2\n",
    "    regu_cost = regu_cost*(regu_lambda/(2*n))\n",
    "    \n",
    "    total = regu_cost + cost\n",
    "    \n",
    "    return total"
   ]
  },
  {
   "cell_type": "code",
   "execution_count": 6,
   "id": "138faf09",
   "metadata": {},
   "outputs": [
    {
     "name": "stdout",
     "output_type": "stream",
     "text": [
      "Regularized cost: 0.6850849138741673\n"
     ]
    }
   ],
   "source": [
    "np.random.seed(1)\n",
    "X_tmp = np.random.rand(5,6)\n",
    "y_tmp = np.array([0,1,0,1,0])\n",
    "w_tmp = np.random.rand(X_tmp.shape[1]).reshape(-1,)-0.5\n",
    "b_tmp = 0.5\n",
    "lambda_tmp = 0.7\n",
    "cost_tmp = cost_logreg_regu(X_tmp, y_tmp, w_tmp, b_tmp, lambda_tmp)\n",
    "\n",
    "print(\"Regularized cost:\", cost_tmp)"
   ]
  },
  {
   "cell_type": "markdown",
   "id": "c29814ce",
   "metadata": {},
   "source": [
    "### Gradient descent regularized\n",
    "Gradient descent updates are as follows:\n",
    "$$\n",
    "\\begin{align}\n",
    "    w_j & \\leftarrow w_j  - \\alpha \\left[ \\dfrac{1}{n}\\sum_{i=1}^{n} \\left[ (f_{\\vec{w},b}(\\vec{x}^{(i)}) - y^{(i)})(x_j^{(i)}) \\right] +\\dfrac{\\lambda}{n}w_j \\right] \\nonumber \\\\\n",
    "    b & \\leftarrow b  - \\alpha \\dfrac{1}{n}\\sum_{i=1}^{n} (f_{\\vec{w},b}(\\vec{x}^{(i)}) - y^{(i)}) \\nonumber\n",
    "\\end{align}$$\n",
    "\n",
    "Linear regression and logistic regression have the same update rule except that $f_{\\vec{w},b}(\\vec{x})$ is different."
   ]
  },
  {
   "cell_type": "code",
   "execution_count": 18,
   "id": "de4522de",
   "metadata": {},
   "outputs": [],
   "source": [
    "def pdv_logreg_regu(X,y,w,b,regu_lambda=1):\n",
    "    \"\"\"\n",
    "    Computes the partial derivatives for gradient descent in logistic regression\n",
    "    \n",
    "    Arguments:\n",
    "    X : (ndarray (n,d)), Data matrix, n observation as rows and d features as rows\n",
    "    y : (ndarray (n,)), Target values vector \n",
    "    w : (ndarray (d,)), Parameter, d-dimensional, one value for each feature\n",
    "    b : scalar, parameter\n",
    "    regu_lambda : scalar,regularization parameter lambda\n",
    "    \n",
    "    Output:\n",
    "    dj_dw : (ndarray(d,)), Gradient of cost function w.r.t w\n",
    "    dj_db : (scalar), Partial derivative of cost function w.r.t b\n",
    "    \"\"\"\n",
    "    n,d = X.shape\n",
    "    dj_dw = np.zeros(d,)\n",
    "    dj_db = 0.0\n",
    "    \n",
    "    for i in range(n):\n",
    "        temp = np.dot(X[i],w) + b - y[i]\n",
    "        for j in range(d):\n",
    "            dj_dw[j] += temp*X[i,j]\n",
    "        dj_db += temp\n",
    "            \n",
    "    dj_dw = dj_dw/n\n",
    "    dj_db = dj_db/n\n",
    "    \n",
    "    for j in range(d):\n",
    "        dj_dw[j] = dj_dw[j] + (regu_lambda/n)*w[j]\n",
    "        \n",
    "    return dj_dw,dj_db"
   ]
  },
  {
   "cell_type": "code",
   "execution_count": 20,
   "id": "4895cff7",
   "metadata": {},
   "outputs": [],
   "source": [
    "def graddesc_logreg_regu(X, y, w_in, b_in, alpha, num, regu_lambda=1):\n",
    "    \"\"\"\n",
    "    Computes gradient descent for logistic regression\n",
    "    \n",
    "    Arguments:\n",
    "    X : (ndarray (n,d)), Data matrix, n observation as rows and d features as rows\n",
    "    y : (ndarray (n,)), Target values vector \n",
    "    w_in : (ndarray (d,)), Parameter, d-dimensional, one value for each feature\n",
    "    b_in : scalar, parameter\n",
    "    alpha : scalar, learning rate\n",
    "    num : (int), number of iterations\n",
    "    regu_lambda : scalar, regularization parameter lambda\n",
    "    \n",
    "    Outputs: \n",
    "    w : final value of parameter after gradient descent\n",
    "    b : final value of parameter after gradient descent\n",
    "    J_hist : (list), cost values list\n",
    "    \"\"\"\n",
    "    \n",
    "    J_hist = []\n",
    "    w = w_in\n",
    "    b = b_in\n",
    "    \n",
    "    for i in range(num):\n",
    "        dj_dw,dj_db = pdv_logreg_regu(X,y,w,b)\n",
    "        \n",
    "        w = w - alpha*dj_dw\n",
    "        b = b - alpha*dj_db\n",
    "    \n",
    "        if i<10000:\n",
    "            J_hist.append(cost_logreg_regu(X,y,w,b))\n",
    "    \n",
    "    return w,b,J_hist"
   ]
  },
  {
   "cell_type": "code",
   "execution_count": 21,
   "id": "8bf771c1",
   "metadata": {},
   "outputs": [],
   "source": [
    "np.random.seed(0)\n",
    "\n",
    "n_samples = 100\n",
    "n_features = 2\n",
    "\n",
    "\n",
    "X_test = np.random.rand(n_samples, n_features)\n",
    "y_test = np.random.randint(2, size=n_samples)\n",
    "\n",
    "w_initial = np.random.rand(n_features)\n",
    "b_initial = 0.5\n",
    "\n",
    "alpha = 0.01\n",
    "num_iterations = 1000\n",
    "regu_lambda = 0.1"
   ]
  },
  {
   "cell_type": "code",
   "execution_count": 23,
   "id": "2f0fe1dc",
   "metadata": {},
   "outputs": [
    {
     "data": {
      "image/png": "[encoded data removed]",
      "text/plain": [
       "<Figure size 640x480 with 1 Axes>"
      ]
     },
     "metadata": {},
     "output_type": "display_data"
    }
   ],
   "source": [
    "def plot_cost_history(J_hist):\n",
    "    plt.plot(range(len(J_hist)), J_hist, color='b')\n",
    "    plt.xlabel('Iterations')\n",
    "    plt.ylabel('Cost')\n",
    "    plt.title('Cost vs. Iterations')\n",
    "    plt.show()\n",
    "\n",
    "# Use the gradient descent function to train your model\n",
    "w_final, b_final, J_hist = graddesc_logreg_regu(X_test, y_test, w_initial,\n",
    "                                                b_initial, alpha, num_iterations, regu_lambda)\n",
    "\n",
    "# Plot the cost function history\n",
    "plot_cost_history(J_hist)"
   ]
  }
 ],
 "metadata": {
  "kernelspec": {
   "display_name": "Python 3 (ipykernel)",
   "language": "python",
   "name": "python3"
  },
  "language_info": {
   "codemirror_mode": {
    "name": "ipython",
    "version": 3
   },
   "file_extension": ".py",
   "mimetype": "text/x-python",
   "name": "python",
   "nbconvert_exporter": "python",
   "pygments_lexer": "ipython3",
   "version": "3.9.13"
  }
 },
 "nbformat": 4,
 "nbformat_minor": 5
}
