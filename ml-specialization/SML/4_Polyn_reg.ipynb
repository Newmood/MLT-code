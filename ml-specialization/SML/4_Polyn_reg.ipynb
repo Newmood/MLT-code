{
 "cells": [
  {
   "cell_type": "markdown",
   "id": "869758ab",
   "metadata": {},
   "source": [
    "# Polynomial Regression"
   ]
  },
  {
   "cell_type": "markdown",
   "id": "9a595d81",
   "metadata": {},
   "source": [
    "We can use non-linear functions of features to get a better fit of data. For example:\n",
    "$$f_{\\vec{w},b}(x) = w_1x + w_2x^2 + w_3x^3 +b$$\n",
    "$$f_{\\vec{w},b}(x) = w_1x + w_2 \\sqrt{x} +b$$\n",
    "\n",
    "Here feature scaling is also very important as if the $x$ goes up to $10^3$ in first example then $x^2$ and $x^3$ goes up to $10^6$, $10^9$. Hence we may use normalization or standardization (z-score normalization) techniques.\n",
    "\n",
    "\n",
    "---"
   ]
  },
  {
   "cell_type": "code",
   "execution_count": 1,
   "id": "c8cc116f",
   "metadata": {},
   "outputs": [],
   "source": [
    "import numpy as np\n",
    "import matplotlib.pyplot as plt\n",
    "%matplotlib inline"
   ]
  },
  {
   "cell_type": "markdown",
   "id": "f18d757a",
   "metadata": {},
   "source": [
    "Following are functions we previously coded:"
   ]
  },
  {
   "cell_type": "code",
   "execution_count": 2,
   "id": "42443946",
   "metadata": {},
   "outputs": [],
   "source": [
    "def cost_multireg(X,y,w,b):\n",
    "    \"\"\"\n",
    "    Predicting valus for multiple regression:\n",
    "    \n",
    "    Arguments:\n",
    "    X : (ndarray (n,d)), Data matrix, n observation as rows and d features as rows\n",
    "    y : (ndarray (n,)), Target values vector \n",
    "    w : (ndarray (d,)), Parameter, d-dimensional, one value for each feature\n",
    "    b : scalar, parameter\n",
    "    \n",
    "    Output:\n",
    "    cost : (scalar), Cost of predicted values\n",
    "    \"\"\"\n",
    "    \n",
    "    n = X.shape[0]\n",
    "    cost = 0\n",
    "    for i in range(n):\n",
    "        f_wb_i = np.dot(X[i],w) + b\n",
    "        cost = cost + (f_wb_i - y[i])**2\n",
    "    cost = cost/ (2*n)\n",
    "    \n",
    "    return cost"
   ]
  },
  {
   "cell_type": "code",
   "execution_count": 3,
   "id": "ebceff85",
   "metadata": {},
   "outputs": [],
   "source": [
    "def pdv(X,y,w,b):\n",
    "    \"\"\"\n",
    "    Computes the partial derivatives for gradient descent with multiple variables\n",
    "    \n",
    "    Arguments:\n",
    "    X : (ndarray (n,d)), Data matrix, n observation as rows and d features as rows\n",
    "    y : (ndarray (n,)), Target values vector \n",
    "    w : (ndarray (d,)), Parameter, d-dimensional, one value for each feature\n",
    "    b : scalar, parameter\n",
    "    \n",
    "    Output:\n",
    "    dj_dw : (ndarray(d,)), Gradient of cost function w.r.t w\n",
    "    dj-db : (scalar), Partial derivative of cost function w.r.t b\n",
    "    \"\"\"\n",
    "    \n",
    "    n,d = X.shape\n",
    "    dj_dw = np.zeros(d,)\n",
    "    dj_db = 0\n",
    "    \n",
    "    for i in range(n):\n",
    "        for j in range(d):\n",
    "            dj_dw[j] = dj_dw[j] + (np.dot(X[i],w) + b - y[i])*X[i,j]\n",
    "        dj_db = dj_db + (np.dot(X[i],w) + b - y[i])\n",
    "    \n",
    "    dj_dw = dj_dw/n\n",
    "    dj_db = dj_db/n\n",
    "    \n",
    "    return dj_dw,dj_db"
   ]
  },
  {
   "cell_type": "code",
   "execution_count": 4,
   "id": "df1b16c6",
   "metadata": {},
   "outputs": [],
   "source": [
    "def grad_desc(X, y, w_in, b_in, alpha, num):\n",
    "    \"\"\"\n",
    "    Computes gradient descent for multiple regression\n",
    "    \n",
    "    Arguments:\n",
    "    X : (ndarray (n,d)), Data matrix, n observation as rows and d features as rows\n",
    "    y : (ndarray (n,)), Target values vector \n",
    "    w_in : (ndarray (d,)), Parameter, d-dimensional, one value for each feature\n",
    "    b_in : scalar, parameter\n",
    "    alpha : learning rate\n",
    "    num : (int), number of iterations\n",
    "    \n",
    "    Outputs: \n",
    "    w : final value of parameter after gradient descent\n",
    "    b : final value of parameter after gradient descent\n",
    "    J_hist : (list), cost values list\n",
    "    \"\"\"\n",
    "    \n",
    "    J_hist = []\n",
    "    w = w_in\n",
    "    b = b_in\n",
    "    \n",
    "    for i in range(num):\n",
    "        dj_dw,dj_db = pdv(X,y,w,b)\n",
    "        \n",
    "        w = w - alpha*dj_dw\n",
    "        b = b - alpha*dj_db\n",
    "    \n",
    "        if i<10000:\n",
    "            J_hist.append(cost_multireg(X,y,w,b))\n",
    "    \n",
    "    return w,b,J_hist"
   ]
  },
  {
   "cell_type": "markdown",
   "id": "3e6db213",
   "metadata": {},
   "source": [
    "## Normalization:\n",
    "\n",
    "- **Mean normalization:** \n",
    "For every $j$th observation of $i$th feature we apply: $$x^{(i)}_j = \\dfrac{x^{(i)}_j - \\mu_i}{max(x^{(i)})-min(x^{(i)})}$$\n",
    "\n",
    "- **Z-score normalization:**\n",
    "For every $j$th observation of $i$th feature we apply: $$x^{(i)}_j = \\dfrac{x^{(i)}_j - \\mu_i}{\\sigma_i}$$\n",
    "\n",
    "where \n",
    "$$\n",
    "\\begin{align}\n",
    "\\mu_i &= \\frac{1}{n} \\sum_{j=0}^{n-1} x^{(i)}_j\\\\\n",
    "\\sigma^2_i &= \\frac{1}{n} \\sum_{j=0}^{n-1} (x^{(i)}_j - \\mu_j)^2\n",
    "\\end{align}\n",
    "$$ and $n$ is the number of observations.\n"
   ]
  },
  {
   "cell_type": "code",
   "execution_count": 5,
   "id": "40a53051",
   "metadata": {},
   "outputs": [],
   "source": [
    "def zscore_norma(X):\n",
    "    \"\"\"\n",
    "    Computes the z-score normalization for a data matrix\n",
    "    Arguments:\n",
    "    X : (ndarray (n,d)), Data matrix, n observation as rows and d features as rows\n",
    "    \n",
    "    Outputs: \n",
    "    normaliz_X  : (ndarray (n,d)), Normzalised data matrix (column-wise)\n",
    "    mean : (ndarray(d,)), Mean of each feature column\n",
    "    stan_div : (ndarray(d,)), Standard deviaiton of each feature column\n",
    "    \"\"\"\n",
    "    \n",
    "    mean = np.mean(X,axis=0)\n",
    "    stan_div = np.std(X,axis=0)\n",
    "    \n",
    "    normaliz_X = (X- mean)/stan_div\n",
    "    \n",
    "    return normaliz_X, mean, stan_div"
   ]
  },
  {
   "cell_type": "markdown",
   "id": "67efb945",
   "metadata": {},
   "source": [
    "We use examples to see how this works:"
   ]
  },
  {
   "cell_type": "code",
   "execution_count": 6,
   "id": "8e839e1f",
   "metadata": {},
   "outputs": [],
   "source": [
    "x_1 = np.arange(0,25,1)\n",
    "y_1 = 1 +x_1**2\n",
    "X_1 = x_1.reshape(-1,1)"
   ]
  },
  {
   "cell_type": "code",
   "execution_count": 7,
   "id": "71cd01ca",
   "metadata": {},
   "outputs": [],
   "source": [
    "w_1,b_1,Jhist_1 = grad_desc(X_1,y_1,w_in=0,b_in=0, alpha= 0.01, num= 1000)"
   ]
  },
  {
   "cell_type": "code",
   "execution_count": 8,
   "id": "2b3be8fc",
   "metadata": {},
   "outputs": [
    {
     "data": {
      "text/plain": [
       "(array([23.59962371]), array([-84.46933928]))"
      ]
     },
     "execution_count": 8,
     "metadata": {},
     "output_type": "execute_result"
    }
   ],
   "source": [
    "w_1,b_1"
   ]
  },
  {
   "cell_type": "code",
   "execution_count": 9,
   "id": "77b41c63",
   "metadata": {},
   "outputs": [
    {
     "data": {
      "text/plain": [
       "<matplotlib.legend.Legend at 0x1d92d6a9dc0>"
      ]
     },
     "execution_count": 9,
     "metadata": {},
     "output_type": "execute_result"
    },
    {
     "data": {
      "image/png": "[encoded data removed]",
      "text/plain": [
       "<Figure size 640x480 with 1 Axes>"
      ]
     },
     "metadata": {},
     "output_type": "display_data"
    }
   ],
   "source": [
    "plt.title(\"Simple regression\")\n",
    "plt.scatter(x_1,y_1,c='r',label='Actual value')\n",
    "plt.plot(x_1, X_1 @ w_1 + b_1, label=\"Predicted value\")\n",
    "plt.xlabel(\"X\")\n",
    "plt.ylabel(\"y\")\n",
    "plt.legend()"
   ]
  },
  {
   "cell_type": "markdown",
   "id": "2de94ae8",
   "metadata": {},
   "source": [
    "Now we will use non-linear features and then observe the output:"
   ]
  },
  {
   "cell_type": "code",
   "execution_count": 13,
   "id": "8dd2074a",
   "metadata": {},
   "outputs": [],
   "source": [
    "x_2 = np.arange(0, 25, 1)\n",
    "y_2 = x_2**2\n",
    "X_2 = np.c_[x_2, x_2**2, x_2**3]\n",
    "\n",
    "\n",
    "X_2, mean_X_2, sd_X_2 = zscore_norma(X_2)\n",
    "w_in_2 = np.zeros(3)\n",
    "b_in_2=0"
   ]
  },
  {
   "cell_type": "code",
   "execution_count": 15,
   "id": "1fcde7f6",
   "metadata": {},
   "outputs": [],
   "source": [
    "w_2,b_2,Jhist_2 = grad_desc(X_2,y_2,w_in_2,b_in_2, alpha= 0.01, num= 1000)"
   ]
  },
  {
   "cell_type": "code",
   "execution_count": 16,
   "id": "2e42b733",
   "metadata": {},
   "outputs": [
    {
     "data": {
      "text/plain": [
       "<matplotlib.legend.Legend at 0x1d92d59d610>"
      ]
     },
     "execution_count": 16,
     "metadata": {},
     "output_type": "execute_result"
    },
    {
     "data": {
      "image/png": "[encoded data removed]",
      "text/plain": [
       "<Figure size 640x480 with 1 Axes>"
      ]
     },
     "metadata": {},
     "output_type": "display_data"
    }
   ],
   "source": [
    "plt.title(\"Polynomial regression\")\n",
    "plt.scatter(x_2, y_2,c='r',label=\"Actual Value\")\n",
    "plt.plot(x_2,X_2@w_2 + b_2, label=\"Predicted Value\")\n",
    "plt.xlabel(\"x\")\n",
    "plt.ylabel(\"y\")\n",
    "plt.legend()"
   ]
  },
  {
   "cell_type": "code",
   "execution_count": 18,
   "id": "4ababd88",
   "metadata": {},
   "outputs": [
    {
     "data": {
      "text/plain": [
       "(array([50.95363425, 64.10486104, 66.58236588]), 195.9915384355075)"
      ]
     },
     "execution_count": 18,
     "metadata": {},
     "output_type": "execute_result"
    }
   ],
   "source": [
    "w_2,b_2"
   ]
  },
  {
   "cell_type": "markdown",
   "id": "6dac0da5",
   "metadata": {},
   "source": [
    "Clearly using non-linear functions of the feature variables as new feature variables and then applying multiple regression gives better estimate. This is polynomial regression."
   ]
  },
  {
   "cell_type": "code",
   "execution_count": null,
   "id": "0dee08f9",
   "metadata": {},
   "outputs": [],
   "source": []
  }
 ],
 "metadata": {
  "kernelspec": {
   "display_name": "Python 3 (ipykernel)",
   "language": "python",
   "name": "python3"
  },
  "language_info": {
   "codemirror_mode": {
    "name": "ipython",
    "version": 3
   },
   "file_extension": ".py",
   "mimetype": "text/x-python",
   "name": "python",
   "nbconvert_exporter": "python",
   "pygments_lexer": "ipython3",
   "version": "3.9.13"
  }
 },
 "nbformat": 4,
 "nbformat_minor": 5
}
